{
 "cells": [
  {
   "cell_type": "code",
   "execution_count": 1,
   "metadata": {
    "collapsed": false
   },
   "outputs": [],
   "source": [
    "import bz2\n",
    "import collections\n",
    "import os\n",
    "import tensorflow as tf\n",
    "import numpy as np\n",
    "#import lazy_property\n",
    "from helpers import download\n",
    "from lxml import etree\n",
    "from attrdict import AttrDict\n",
    "from EmbeddingModel import EmbeddingModel\n",
    "from RawDataParser import Wikipedia\n",
    "from withableWriter import withableWriter"
   ]
  },
  {
   "cell_type": "code",
   "execution_count": 3,
   "metadata": {
    "collapsed": false
   },
   "outputs": [
    {
     "name": "stdout",
     "output_type": "stream",
     "text": [
      "Read vocabulary\n"
     ]
    }
   ],
   "source": [
    "def skipgrams(pages, max_context):\n",
    "    \"\"\"Form training pairs according to the skip-gram model.\"\"\"\n",
    "    for words in pages:\n",
    "        for index, current in enumerate(words):\n",
    "            context = np.random.randint(1, max_context)\n",
    "            for target in words[max(0, index - context): index]:\n",
    "                yield current, target\n",
    "            for target in words[index + 1: index + context + 1]:\n",
    "                yield current, target\n",
    "\n",
    "\n",
    "def batched(iterator, batch_size):\n",
    "    \"\"\"Group a numerical stream into batches and yield them as Numpy arrays.\"\"\"\n",
    "    while True:\n",
    "        data = np.zeros(batch_size)\n",
    "        target = np.zeros(batch_size)\n",
    "        for index in range(batch_size):\n",
    "            data[index], target[index] = next(iterator)\n",
    "        yield data, target\n",
    "    \n",
    "params = AttrDict(\n",
    "    vocabulary_size=1000000,\n",
    "    max_context=10,\n",
    "    embedding_size=200,\n",
    "    contrastive_examples=10,\n",
    "    learning_rate=0.5,\n",
    "    momentum=0.5,\n",
    "    batch_size=1000,\n",
    ")  \n",
    "\n",
    "data = tf.placeholder(tf.int32, [None])\n",
    "target = tf.placeholder(tf.int32, [None])\n",
    "model = EmbeddingModel(data, target, params)\n",
    "\n",
    "corpus = Wikipedia(\n",
    "    'https://dumps.wikimedia.org/enwiki/20171120/enwiki-20171120-pages-meta-current1.xml-p10p30303.bz2',\n",
    "    'wikipedia',\n",
    "    params.vocabulary_size)\n",
    "examples = skipgrams(corpus, params.max_context)\n",
    "batches = batched(examples, params.batch_size)\n",
    "\n",
    "cost_summary = tf.summary.scalar(tensor = model.cost, name = 'cost')\n"
   ]
  },
  {
   "cell_type": "code",
   "execution_count": 4,
   "metadata": {
    "collapsed": false
   },
   "outputs": [],
   "source": [
    "def similarity(vec1, vec2):\n",
    "    return np.dot(vec1,vec2)/(np.linalg.norm(vec1) * np.linalg.norm(vec2))\n",
    "\n",
    "def nearestNeighbours(vectors, target, k):\n",
    "    distances = []\n",
    "    vectors = np.stack(vectors)\n",
    "    for i in range(len(vectors)):\n",
    "        distances.append(similarity(vectors[i], target))\n",
    "    indices = [i[0] for i in sorted(enumerate(distances), key=lambda x:x[1], reverse=True)]\n",
    "    distances= sorted(distances)\n",
    "    return indices[:k], distances[:k]    \n",
    "\n",
    "vectors = np.load('embeddings_626495_1999999.npy')\n",
    "\n"
   ]
  },
  {
   "cell_type": "code",
   "execution_count": 7,
   "metadata": {
    "collapsed": false
   },
   "outputs": [
    {
     "name": "stdout",
     "output_type": "stream",
     "text": [
      "['city', 'of', '<', '.', 'that', 'cite', 'web', 'and', 'pages', 'b', 'ref', 'for', '(', 'p', 'the', 'war', 'first', 'www', 'is', 'name', 'publisher', 'from', 'was', 'in', 'which', ',', ':', 'by', 'he', 'nbsp', 'on', 'as', 'http', 'his', 'to', 'had', 'than', ')', 'are', 'an', 'url', 's', '?', 'ndash', 'journal', 'title', 'com', 'at', 'with', 'a', 'd', 'one', 'other', 'https', 'most', 'volume', 'accessdate', 'org', 'last', 'e', 'book', 'their', 'it', 'but', '!', 'year', 'some', 'author', 'were', 'news', 'n', 'can', 'html', 'this', 'have', 'no', 'y', 'date', 'isbn', 'de', 'c', 'world', 'has', 'style', 'american', 'use', 'they', 'when', 'university', 'i', 'its', 'new', 'john', 'or', 'order', 'after', 'states', 'br', 'august', 'not']\n",
      "\n",
      "\n",
      "['york', 'in', '.', 'd', ',', 'ref', 'name', 'web', 'last', 'url', 'cite', '<', 'to', 'american', 'the', 'with', 'book', 'language', 'by', 'first', ')', 'his', 'of', 'also', '(', 'new', 'that', ':', 'he', 'a', 'at', 'it', 'c', 'not', 'be', 'title', 'pages', 'is', 'b', 'and', 'http', 'www', 'was', 'has', 'org', 'on', 'p', 'are', 'or', 'archive', 's', 'other', 'alexander', 'university', 'i', 'may', 'this', 'more', 'left', 'these', 'e', 'from', 'such', 'year', 'history', 'an', 'page', 'its', 'which', 'all', 'well', 'r', 'https', 'can', 'category', 'jpg', 'com', 'as', 'journal', 'author', 'people', 'date', 'were', 'century', 'been', 'ndash', '?', 'their', 'war', 'style', 'they', 'math', 'isbn', 'ancient', 'him', 'g', 'pp', 'country', 'states', 'no']\n"
     ]
    }
   ],
   "source": [
    "vocabulary_size= 999999\n",
    "j = corpus.encode('city')\n",
    "indices, _ = nearestNeighbours(vectors, vectors[j], 100)\n",
    "nn = [corpus.decode(min(i, vocabulary_size)) for i in indices]\n",
    "print(nn)\n",
    "\n",
    "print('\\n')\n",
    "\n",
    "j = corpus.encode('york')\n",
    "indices, _ = nearestNeighbours(vectors, vectors[j], 100)\n",
    "nn = [corpus.decode(min(i, vocabulary_size)) for i in indices]\n",
    "print(nn)"
   ]
  },
  {
   "cell_type": "code",
   "execution_count": null,
   "metadata": {
    "collapsed": true
   },
   "outputs": [],
   "source": [
    "sess = tf.Session()\n",
    "sess.run(tf.global_variables_initializer())\n",
    "average = collections.deque(maxlen=100)\n",
    "for index, batch in enumerate(batches):\n",
    "    feed_dict = {data: batch[0], target: batch[1]}\n",
    "    cost, _ = sess.run([model.cost, model.optimize], feed_dict)\n",
    "    average.append(cost)\n",
    "    print('{}: {:5.1f}'.format(index + 1, sum(average) / len(average)))\n",
    "\n",
    "embeddings = sess.run(model.embeddings)\n",
    "np.save('/home/pietro/wikipedia/embeddings.npy', embeddings)"
   ]
  },
  {
   "cell_type": "code",
   "execution_count": 15,
   "metadata": {
    "collapsed": false
   },
   "outputs": [
    {
     "data": {
      "text/plain": [
       "0.0"
      ]
     },
     "execution_count": 15,
     "metadata": {},
     "output_type": "execute_result"
    }
   ],
   "source": [
    "distance(np.stack(vectors)[0], np.stack(vectors)[0])"
   ]
  },
  {
   "cell_type": "code",
   "execution_count": 5,
   "metadata": {
    "collapsed": false
   },
   "outputs": [
    {
     "ename": "ValueError",
     "evalue": "too many values to unpack (expected 2)",
     "output_type": "error",
     "traceback": [
      "\u001b[0;31m---------------------------------------------------------------------------\u001b[0m",
      "\u001b[0;31mValueError\u001b[0m                                Traceback (most recent call last)",
      "\u001b[0;32m<ipython-input-5-2185fae02dd8>\u001b[0m in \u001b[0;36m<module>\u001b[0;34m()\u001b[0m\n\u001b[0;32m----> 1\u001b[0;31m \u001b[0mind\u001b[0m\u001b[0;34m,\u001b[0m \u001b[0mval\u001b[0m \u001b[0;34m=\u001b[0m \u001b[0msorted\u001b[0m\u001b[0;34m(\u001b[0m\u001b[0;34m[\u001b[0m\u001b[0;36m1\u001b[0m\u001b[0;34m,\u001b[0m\u001b[0;36m4\u001b[0m\u001b[0;34m,\u001b[0m\u001b[0;36m2\u001b[0m\u001b[0;34m,\u001b[0m\u001b[0;36m6\u001b[0m\u001b[0;34m,\u001b[0m\u001b[0;36m3\u001b[0m\u001b[0;34m]\u001b[0m\u001b[0;34m)\u001b[0m\u001b[0;34m\u001b[0m\u001b[0m\n\u001b[0m",
      "\u001b[0;31mValueError\u001b[0m: too many values to unpack (expected 2)"
     ]
    }
   ],
   "source": [
    "ind, val = sorted([1,4,2,6,3])"
   ]
  },
  {
   "cell_type": "code",
   "execution_count": 22,
   "metadata": {
    "collapsed": false
   },
   "outputs": [
    {
     "data": {
      "text/plain": [
       "[858, 2, 0, 1, 6, 3, 75, 8, 63, 7, 37, 46, 113, 99, 202, 126, 132, 69, 4, 11]"
      ]
     },
     "execution_count": 22,
     "metadata": {},
     "output_type": "execute_result"
    }
   ],
   "source": [
    "indices"
   ]
  },
  {
   "cell_type": "code",
   "execution_count": null,
   "metadata": {
    "collapsed": true
   },
   "outputs": [],
   "source": []
  }
 ],
 "metadata": {
  "kernelspec": {
   "display_name": "Python 3",
   "language": "python",
   "name": "python3"
  },
  "language_info": {
   "codemirror_mode": {
    "name": "ipython",
    "version": 3
   },
   "file_extension": ".py",
   "mimetype": "text/x-python",
   "name": "python",
   "nbconvert_exporter": "python",
   "pygments_lexer": "ipython3",
   "version": "3.5.2"
  }
 },
 "nbformat": 4,
 "nbformat_minor": 2
}
